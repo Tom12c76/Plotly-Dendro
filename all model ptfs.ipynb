{
 "cells": [
  {
   "cell_type": "code",
   "execution_count": 2,
   "id": "70cf1ec9",
   "metadata": {},
   "outputs": [],
   "source": [
    "import pandas as pd\n",
    "\n",
    "# Extracted data from the image\n",
    "data = {\n",
    "    \"ISIN\": [\n",
    "        \"IE00B84J9L26\", \"LU1670724373\", \"LU1670722161\", \"IE00BRB37Q12\", \"IE00BK1KHS51\",\n",
    "        \"LU0110450813\", \"IE00BRB37T43\", \"LU2530434740\", \"LU1897340425\", \"LU1889097876\",\n",
    "        \"LU0329760770\", \"LU0154237738\", \"LU0067412154\", \"IT0005536971\", \"LU2286300988\",\n",
    "        \"LU2904663007\", \"IE000T1U29K2\", \"IE00BYR8FS70\"\n",
    "    ],\n",
    "    \"Quantity\": [\n",
    "        27027, 34942, 28867, 25242, 2639, 6651, 24389, 22278, 11755, 20023,\n",
    "        740, 11995, 106, 998, 715, 752, 5, 253\n",
    "    ]\n",
    "}\n",
    "\n",
    "# Create DataFrame\n",
    "df = pd.DataFrame(data)\n",
    "\n",
    "# Save to CSV file\n",
    "csv_file_path = \"ISIN_Quantities.csv\"\n",
    "df.to_csv(csv_file_path, index=False)\n",
    "\n"
   ]
  },
  {
   "cell_type": "code",
   "execution_count": 3,
   "id": "b6691e56",
   "metadata": {},
   "outputs": [
    {
     "data": {
      "text/plain": [
       "'cons Model_ISIN_Weights.csv'"
      ]
     },
     "execution_count": 3,
     "metadata": {},
     "output_type": "execute_result"
    }
   ],
   "source": [
    "# Re-import necessary libraries after execution state reset\n",
    "import pandas as pd\n",
    "\n",
    "# Extracted data from the image\n",
    "data = {\n",
    "    \"Model\": [\"Conservativa\"] * 22,\n",
    "    \"ISIN\": [\n",
    "        \"LU1965927681\", \"LU0969639128\", \"LU2020657164\", \"IE00BK1KH528\", \"LU1136108757\",\n",
    "        \"LU2001182430\", \"IE0033758917\", \"LU0113258742\", \"LU1484799769\", \"IE00BYT35D51\",\n",
    "        \"LU2111935909\", \"LU0406496546\", \"IE00BHZPJ015\", \"IE00BFMNHK08\", \"LU0848066766\",\n",
    "        \"IE00BF4G7076\", \"IE00BFMNPS42\", \"IE00BHZPJ908\", \"IE0000MMQ5M5\", \"LU0155301467\",\n",
    "        \"IE00BHZPJ239\", \"LU1048313891\"\n",
    "    ],\n",
    "    \"Weight\": [\n",
    "        \"2.407%\", \"10.877%\", \"7.128%\", \"3.139%\", \"8.657%\",\n",
    "        \"8.143%\", \"3.522%\", \"10.595%\", \"4.897%\", \"1.517%\",\n",
    "        \"5.142%\", \"1.738%\", \"6.196%\", \"2.898%\", \"0.218%\",\n",
    "        \"2.194%\", \"7.912%\", \"1.430%\", \"5.622%\", \"2.106%\",\n",
    "        \"1.568%\", \"1.560%\"\n",
    "    ]\n",
    "}\n",
    "\n",
    "# Create DataFrame\n",
    "df = pd.DataFrame(data)\n",
    "\n",
    "# Save to CSV file\n",
    "csv_file_path = \"cons Model_ISIN_Weights.csv\"\n",
    "df.to_csv(csv_file_path, index=False)\n",
    "\n",
    "# Provide the download link\n",
    "csv_file_path\n"
   ]
  },
  {
   "cell_type": "code",
   "execution_count": 4,
   "id": "da6fd36e",
   "metadata": {},
   "outputs": [
    {
     "data": {
      "text/plain": [
       "'Reddito_ISIN_Weights.csv'"
      ]
     },
     "execution_count": 4,
     "metadata": {},
     "output_type": "execute_result"
    }
   ],
   "source": [
    "# Re-import necessary libraries after execution state reset\n",
    "import pandas as pd\n",
    "\n",
    "# Extracted data from the image\n",
    "data = {\n",
    "    \"Model\": [\"Reddito\"] * 19,\n",
    "    \"ISIN\": [\n",
    "        \"LU1278851099\", \"LU1965927681\", \"LU0099730524\", \"LU0145476148\", \"IE00B3VWN179\",\n",
    "        \"LU2020657164\", \"IE00BK1KH528\", \"LU2037748774\", \"LU1136108757\", \"LU2001182430\",\n",
    "        \"IE00BFNWY275\", \"IE0033758917\", \"IE00B3V8Y234\", \"LU0113258742\", \"IE00BZ090894\",\n",
    "        \"IE00BYT35D51\", \"LU1191877965\", \"LU0616840772\", \"IE00BDZRX185\"\n",
    "    ],\n",
    "    \"Weight\": [\n",
    "        \"3.588%\", \"12.506%\", \"9.972%\", \"7.954%\", \"3.875%\",\n",
    "        \"7.127%\", \"3.332%\", \"2.974%\", \"3.949%\", \"1.794%\",\n",
    "        \"2.086%\", \"8.732%\", \"5.015%\", \"10.626%\", \"1.038%\",\n",
    "        \"2.513%\", \"3.336%\", \"2.815%\", \"5.383%\"\n",
    "    ]\n",
    "}\n",
    "\n",
    "# Create DataFrame\n",
    "df = pd.DataFrame(data)\n",
    "\n",
    "# Save to CSV file\n",
    "csv_file_path = \"Reddito_ISIN_Weights.csv\"\n",
    "df.to_csv(csv_file_path, index=False)\n",
    "\n",
    "# Provide the download link\n",
    "csv_file_path\n"
   ]
  },
  {
   "cell_type": "code",
   "execution_count": 5,
   "id": "834b645e",
   "metadata": {},
   "outputs": [
    {
     "data": {
      "text/plain": [
       "'Bilanciata_ISIN_Weights.csv'"
      ]
     },
     "execution_count": 5,
     "metadata": {},
     "output_type": "execute_result"
    }
   ],
   "source": [
    "# Re-import necessary libraries after execution state reset\n",
    "import pandas as pd\n",
    "\n",
    "# Extracted data from the image\n",
    "data = {\n",
    "    \"Model\": [\"Bilanciata\"] * 22,\n",
    "    \"ISIN\": [\n",
    "        \"LU1965927681\", \"LU0969639128\", \"LU2020657164\", \"IE00BK1KH528\", \"LU1136108757\",\n",
    "        \"LU2001182430\", \"IE0033758917\", \"LU0113258742\", \"LU1484799769\", \"IE00BYT35D51\",\n",
    "        \"LU2111935909\", \"LU0406496546\", \"IE00BHZPJ015\", \"IE00BFMNHK08\", \"LU0848066766\",\n",
    "        \"IE00BF4G7076\", \"IE00BFMNPS42\", \"IE00BHZPJ908\", \"IE0000MMQ5M5\", \"LU0155301467\",\n",
    "        \"IE00BHZPJ239\", \"LU1048313891\"\n",
    "    ],\n",
    "    \"Weight\": [\n",
    "        \"0.823%\", \"7.933%\", \"4.603%\", \"2.027%\", \"5.026%\",\n",
    "        \"5.432%\", \"2.323%\", \"6.052%\", \"2.877%\", \"1.302%\",\n",
    "        \"5.128%\", \"3.410%\", \"8.140%\", \"4.571%\", \"0.441%\",\n",
    "        \"4.088%\", \"10.660%\", \"2.956%\", \"10.584%\", \"4.140%\",\n",
    "        \"3.002%\", \"3.038%\"\n",
    "    ]\n",
    "}\n",
    "\n",
    "# Create DataFrame\n",
    "df = pd.DataFrame(data)\n",
    "\n",
    "# Save to CSV file\n",
    "csv_file_path = \"Bilanciata_ISIN_Weights.csv\"\n",
    "df.to_csv(csv_file_path, index=False)\n",
    "\n",
    "# Provide the download link\n",
    "csv_file_path\n"
   ]
  },
  {
   "cell_type": "code",
   "execution_count": 6,
   "id": "5e96648d",
   "metadata": {},
   "outputs": [
    {
     "data": {
      "text/plain": [
       "'Dinamica_ISIN_Weights.csv'"
      ]
     },
     "execution_count": 6,
     "metadata": {},
     "output_type": "execute_result"
    }
   ],
   "source": [
    "# Extracted data from the image\n",
    "data = {\n",
    "    \"Model\": [\"Dinamica\"] * 19,\n",
    "    \"ISIN\": [\n",
    "        \"LU1965927681\", \"LU0969639128\", \"LU2020657164\", \"IE00BK1KH528\", \"LU1136108757\",\n",
    "        \"LU2001182430\", \"LU0113258742\", \"LU2111935909\", \"LU0406496546\", \"IE00BHZPJ015\",\n",
    "        \"IE00BFMNHK08\", \"LU0848066766\", \"IE00BF4G7076\", \"IE00BFMNPS42\", \"IE00BHZPJ908\",\n",
    "        \"IE0000MMQ5M5\", \"LU0155301467\", \"IE00BHZPJ239\", \"LU1048313891\"\n",
    "    ],\n",
    "    \"Weight\": [\n",
    "        \"0.416%\", \"3.239%\", \"2.758%\", \"1.997%\", \"3.693%\",\n",
    "        \"1.599%\", \"2.657%\", \"5.173%\", \"4.344%\", \"10.737%\",\n",
    "        \"6.022%\", \"0.947%\", \"6.670%\", \"12.546%\", \"4.938%\",\n",
    "        \"15.622%\", \"7.169%\", \"4.127%\", \"4.044%\"\n",
    "    ]\n",
    "}\n",
    "\n",
    "# Create DataFrame\n",
    "df = pd.DataFrame(data)\n",
    "\n",
    "# Save to CSV file\n",
    "csv_file_path = \"Dinamica_ISIN_Weights.csv\"\n",
    "df.to_csv(csv_file_path, index=False)\n",
    "\n",
    "# Provide the download link\n",
    "csv_file_path\n"
   ]
  },
  {
   "cell_type": "code",
   "execution_count": null,
   "id": "cd8d71a8",
   "metadata": {},
   "outputs": [],
   "source": []
  }
 ],
 "metadata": {
  "kernelspec": {
   "display_name": "base",
   "language": "python",
   "name": "python3"
  },
  "language_info": {
   "codemirror_mode": {
    "name": "ipython",
    "version": 3
   },
   "file_extension": ".py",
   "mimetype": "text/x-python",
   "name": "python",
   "nbconvert_exporter": "python",
   "pygments_lexer": "ipython3",
   "version": "3.10.9"
  }
 },
 "nbformat": 4,
 "nbformat_minor": 5
}
